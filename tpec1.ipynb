{
  "nbformat": 4,
  "nbformat_minor": 0,
  "metadata": {
    "colab": {
      "provenance": [],
      "authorship_tag": "ABX9TyO7ejGXA/+2iOZBeX4iWCuU"
    },
    "kernelspec": {
      "name": "python3",
      "display_name": "Python 3"
    },
    "language_info": {
      "name": "python"
    }
  },
  "cells": [
    {
      "cell_type": "code",
      "execution_count": null,
      "metadata": {
        "colab": {
          "base_uri": "https://localhost:8080/"
        },
        "id": "D2bn1Eov2Rk3",
        "outputId": "5288422f-75eb-4f7b-da2e-9b87abf50ce2"
      },
      "outputs": [
        {
          "output_type": "stream",
          "name": "stdout",
          "text": [
            "3 2\n",
            "1 5 3\n",
            "3 1\n",
            "5 7\n",
            "1\n"
          ]
        }
      ],
      "source": [
        "n,m=list(map(int, input().split()))\n",
        "ns=list(map(int,input().split()))\n",
        "h=set(map(int,input().split()))\n",
        "s=set(map(int,input().split()))\n",
        "res=0\n",
        "for x in ns:\n",
        "  if x in h:\n",
        "    res+=1\n",
        "  elif x in s:\n",
        "    res -=1\n",
        "print(res)"
      ]
    },
    {
      "cell_type": "code",
      "source": [
        "from collections import OrderedDict\n",
        "d=OrderedDict()\n",
        "n=int(input())\n",
        "for i in range(n):\n",
        "  s=input()\n",
        "  if s in d.keys():\n",
        "    d[s]+=1\n",
        "  else:\n",
        "    d[s]=1\n",
        "print(len(d.keys()))\n",
        "print(' '.join(map(str,d.values())))"
      ],
      "metadata": {
        "colab": {
          "base_uri": "https://localhost:8080/"
        },
        "id": "5aNfQT_xDtYj",
        "outputId": "3ca9a1b1-f6ec-48e2-85ca-91b1250ba17d"
      },
      "execution_count": null,
      "outputs": [
        {
          "output_type": "stream",
          "name": "stdout",
          "text": [
            "4\n",
            "bcdef\n",
            "abcdefg\n",
            "bcde\n",
            "bcdef\n",
            "3\n",
            "2 1 1\n"
          ]
        }
      ]
    },
    {
      "cell_type": "code",
      "source": [
        "n = int(input())\n",
        "arr = sorted(set(map(int, input().split())))\n",
        "print(arr[-2])"
      ],
      "metadata": {
        "colab": {
          "base_uri": "https://localhost:8080/"
        },
        "id": "Mu1eAvhYFGKf",
        "outputId": "12b76e0b-ec24-4aba-83b1-116fafefd8ae"
      },
      "execution_count": null,
      "outputs": [
        {
          "output_type": "stream",
          "name": "stdout",
          "text": [
            "5\n",
            "2 3 6 6 5\n",
            "5\n"
          ]
        }
      ]
    },
    {
      "cell_type": "code",
      "source": [
        "def minion_game(string):\n",
        "  k=0\n",
        "  s=0\n",
        "  vowels=\"AaEeIiOoUu\"\n",
        "  for i in range(len(string)):\n",
        "    if string[i] in vowels:\n",
        "      k = k+len(string)-i\n",
        "    else:\n",
        "      s=s+len(string)-i\n",
        "  if k>s:\n",
        "    print(\"k\",k)\n",
        "  elif k==s:\n",
        "    print(\"draw\")\n",
        "  else:\n",
        "    print(\"s\",s)\n",
        "s = input()\n",
        "minion_game(s)"
      ],
      "metadata": {
        "colab": {
          "base_uri": "https://localhost:8080/"
        },
        "id": "1z18zzj7GPK8",
        "outputId": "fd0f8d3f-a06b-48bf-ef28-bffc31ab2298"
      },
      "execution_count": null,
      "outputs": [
        {
          "output_type": "stream",
          "name": "stdout",
          "text": [
            "BANANA\n",
            "s 12\n"
          ]
        }
      ]
    },
    {
      "cell_type": "code",
      "source": [
        "S=input()\n",
        "i=1\n",
        "a=[]\n",
        "count=1\n",
        "while i<len(S):\n",
        "  if S[i]==S[i-1]:\n",
        "    count+=1\n",
        "    i+=1\n",
        "  else:\n",
        "    a.append((count,int(S[i-1])))\n",
        "    count=1\n",
        "    i+=1\n",
        "a.append((count,int(S[i-1])))\n",
        "for i in a:\n",
        "  print(i,end=' ')"
      ],
      "metadata": {
        "colab": {
          "base_uri": "https://localhost:8080/"
        },
        "id": "kOlIWswhHkxB",
        "outputId": "35e41e2e-6660-4cc4-81ed-5fed422d6cc7"
      },
      "execution_count": null,
      "outputs": [
        {
          "output_type": "stream",
          "name": "stdout",
          "text": [
            "1222311\n",
            "(1, 1) (3, 2) (1, 3) (2, 1) "
          ]
        }
      ]
    },
    {
      "cell_type": "code",
      "source": [
        "x = int(input())\n",
        "y = int(input())\n",
        "z = int(input())\n",
        "n = int(input())\n",
        "output=[]\n",
        "for i in range(x+1):\n",
        "  for j in range(y+1):\n",
        "    for k in range(z+1):\n",
        "      if i+j+k==n:\n",
        "        continue\n",
        "      else:\n",
        "        output.append([i,j,k])\n",
        "print(output)"
      ],
      "metadata": {
        "colab": {
          "base_uri": "https://localhost:8080/"
        },
        "id": "Lg4c_moyMKP4",
        "outputId": "42dad18f-101b-4849-b9aa-a850e9e6acc6"
      },
      "execution_count": null,
      "outputs": [
        {
          "output_type": "stream",
          "name": "stdout",
          "text": [
            "1\n",
            "1\n",
            "1\n",
            "2\n",
            "[[0, 0, 0], [0, 0, 1], [0, 1, 0], [1, 0, 0], [1, 1, 1]]\n"
          ]
        }
      ]
    },
    {
      "cell_type": "code",
      "source": [
        "n=int(input())\n",
        "m=int(input())\n",
        "for i in range(1,n,2):\n",
        "  print(('.|.'*i).center(m,'-'))\n",
        "print('welcome'.center(m,'-'))\n",
        "for i in range(n-2,0,-2):\n",
        "  print(('.|.'*i).center(m,'-'))"
      ],
      "metadata": {
        "id": "ly2DgkK2lg2l",
        "colab": {
          "base_uri": "https://localhost:8080/"
        },
        "outputId": "fb1b9c61-0515-43d5-9491-765d46d3e2ed"
      },
      "execution_count": 1,
      "outputs": [
        {
          "output_type": "stream",
          "name": "stdout",
          "text": [
            "7\n",
            "21\n",
            "---------.|.---------\n",
            "------.|..|..|.------\n",
            "---.|..|..|..|..|.---\n",
            "-------welcome-------\n",
            "---.|..|..|..|..|.---\n",
            "------.|..|..|.------\n",
            "---------.|.---------\n"
          ]
        }
      ]
    },
    {
      "cell_type": "code",
      "source": [
        "N = int(input())\n",
        "command=[]\n",
        "for i in range(N):\n",
        "  command.append(input().split())\n",
        "  res=[]\n",
        "for i in range(N):\n",
        "  if command[i][0]=='insert':\n",
        "    res.insert(int(command[i][1]),int(command[i][2]))\n",
        "  elif command[i][0]=='print':\n",
        "    print(res)\n",
        "  elif command[i][0]=='remove':\n",
        "    res.remove(int(command[i][1]))\n",
        "  elif command[i][0]=='sort':\n",
        "    res.sort()\n",
        "  elif command[i][0]=='reverse':\n",
        "    res.reverse()\n",
        "  elif command[i][0]=='pop':\n",
        "    res.pop()\n",
        "  elif command[i][0]=='append':\n",
        "    res.append(int(command[i][1]))"
      ],
      "metadata": {
        "colab": {
          "base_uri": "https://localhost:8080/"
        },
        "id": "kA-urhPpC2xu",
        "outputId": "d09a0eaa-167e-4840-80c4-da31383bc44b"
      },
      "execution_count": 4,
      "outputs": [
        {
          "output_type": "stream",
          "name": "stdout",
          "text": [
            "12\n",
            "insert 0 5\n",
            "insert 1 10\n",
            "insert 0 6\n",
            "print\n",
            "remove 6\n",
            "append 9\n",
            "append 1\n",
            "sort\n",
            "print\n",
            "pop\n",
            "reverse\n",
            "print\n",
            "[6, 5, 10]\n",
            "[1, 5, 9, 10]\n",
            "[9, 5, 1]\n"
          ]
        }
      ]
    },
    {
      "cell_type": "code",
      "source": [
        "lis=[]\n",
        "for _ in range(int(input())):\n",
        "  name = input()\n",
        "  score = float(input())\n",
        "  lis.append([name,score])\n",
        "lis.sort(key=lambda lis:lis[1])\n",
        "sl=[]\n",
        "for i in range(len(lis)):\n",
        "  if lis[i][1]!=lis[0][1]:\n",
        "    sl.append(lis[i][0])\n",
        "    for j in range(i+1,len(lis)):\n",
        "      if lis[j][1]==lis[i][1]:\n",
        "        sl.append(lis[j][0])\n",
        "      else:\n",
        "        break\n",
        "    break\n",
        "  else:\n",
        "    continue\n",
        "sl.sort()\n",
        "for i in sl:\n",
        "  print(i)"
      ],
      "metadata": {
        "colab": {
          "base_uri": "https://localhost:8080/"
        },
        "id": "6z6AdWYeOUbF",
        "outputId": "499ef536-dc9f-4e69-8ead-1b98784ff79e"
      },
      "execution_count": 6,
      "outputs": [
        {
          "output_type": "stream",
          "name": "stdout",
          "text": [
            "5\n",
            "Harry \n",
            "37.21  \n",
            "berry\n",
            "37.21\n",
            "Tina \n",
            "37.2 \n",
            "Akriti \n",
            "41 \n",
            "Harsh 39\n",
            "39\n",
            "Harry \n",
            "berry\n"
          ]
        }
      ]
    },
    {
      "cell_type": "code",
      "source": [
        "def swap_case(s):\n",
        "  cc=[]\n",
        "  for i in range(len(s)):\n",
        "    if (s[i].isupper()) == True:\n",
        "      cc.append(s[i].lower())\n",
        "    elif (s[i].islower()) == True:\n",
        "      cc.append(s[i].upper())\n",
        "    else:\n",
        "      cc.append(s[i])\n",
        "    str=''\n",
        "  return str.join(cc)\n",
        "s = input()\n",
        "result = swap_case(s)\n",
        "print(result)"
      ],
      "metadata": {
        "colab": {
          "base_uri": "https://localhost:8080/"
        },
        "id": "Hm7hprLBP49n",
        "outputId": "109e664c-5aef-4962-bb64-f5ff7eb6b84f"
      },
      "execution_count": 13,
      "outputs": [
        {
          "output_type": "stream",
          "name": "stdout",
          "text": [
            "HackerRank.com presents \"Pythonist 2\"\n",
            "hACKERrANK.COM PRESENTS \"pYTHONIST 2\"\n"
          ]
        }
      ]
    },
    {
      "cell_type": "code",
      "source": [
        "def count_substring(string, sub_string):\n",
        "  count=0\n",
        "  for i in range(len(string)-len(sub_string)+1):\n",
        "    if string[i:i+len(sub_string)]==sub_string:\n",
        "      count+=1\n",
        "  return count\n",
        "string = input().strip()\n",
        "sub_string = input().strip()\n",
        "count = count_substring(string, sub_string)\n",
        "print(count)"
      ],
      "metadata": {
        "colab": {
          "base_uri": "https://localhost:8080/"
        },
        "id": "jK_siGANRNFF",
        "outputId": "704027ba-8864-47a2-98bf-fce622cef31a"
      },
      "execution_count": 14,
      "outputs": [
        {
          "output_type": "stream",
          "name": "stdout",
          "text": [
            "ABCDCDC\n",
            "CDC\n",
            "2\n"
          ]
        }
      ]
    },
    {
      "cell_type": "code",
      "source": [
        "n=int(input())\n",
        "for i in range(n-1,-1,-1):\n",
        "  for j in range(i):\n",
        "    print(end=\"--\")\n",
        "  for j in range(n-1,i,-1):\n",
        "    print(chr(j+97), end=\"-\")\n",
        "  for j in range(i,n):\n",
        "    if j!=n-1:\n",
        "     print(chr(j+97), end=\"-\")\n",
        "    else:\n",
        "     print(chr(j+97),end=\"\")\n",
        "  for j in range(2*i):\n",
        "    print(end=\"-\")\n",
        "  print()\n",
        "for i in range(1,n):\n",
        "  for j in range(i):\n",
        "    print(end=\"--\")\n",
        "  for j in range(n-1,i,-1):\n",
        "    print(chr(j+97), end=\"-\")\n",
        "  for j in range(i,n):\n",
        "    if j!=n-1:\n",
        "     print(chr(j+97), end=\"-\")\n",
        "    else:\n",
        "     print(chr(j+97),end=\"\")\n",
        "  for j in range(2*i):\n",
        "    print(end=\"-\")\n",
        "  print()"
      ],
      "metadata": {
        "colab": {
          "base_uri": "https://localhost:8080/"
        },
        "id": "aoM8ivE6SPYH",
        "outputId": "f12f699f-5547-4752-cf5f-da4130b8fc44"
      },
      "execution_count": 15,
      "outputs": [
        {
          "output_type": "stream",
          "name": "stdout",
          "text": [
            "5\n",
            "--------e--------\n",
            "------e-d-e------\n",
            "----e-d-c-d-e----\n",
            "--e-d-c-b-c-d-e--\n",
            "e-d-c-b-a-b-c-d-e\n",
            "--e-d-c-b-c-d-e--\n",
            "----e-d-c-d-e----\n",
            "------e-d-e------\n",
            "--------e--------\n"
          ]
        }
      ]
    },
    {
      "cell_type": "code",
      "source": [
        "s=input()\n",
        "print(any(c.isalpha() for c in s))\n",
        "print(any(c.isalpha() for c in s))\n",
        "print(any(c.isdigit() for c in s))\n",
        "print(any(c.islower() for c in s))\n",
        "print(any(c.isupper() for c in s))"
      ],
      "metadata": {
        "colab": {
          "base_uri": "https://localhost:8080/"
        },
        "id": "IeNV8v86TXxC",
        "outputId": "23d3a1ba-50d4-49a5-dd9e-cf75312e41f0"
      },
      "execution_count": 16,
      "outputs": [
        {
          "output_type": "stream",
          "name": "stdout",
          "text": [
            "qA2\n",
            "True\n",
            "True\n",
            "True\n",
            "True\n",
            "True\n"
          ]
        }
      ]
    }
  ]
}